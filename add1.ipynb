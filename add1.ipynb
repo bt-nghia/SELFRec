{
 "cells": [
  {
   "cell_type": "code",
   "execution_count": 1,
   "metadata": {},
   "outputs": [],
   "source": [
    "import numpy as np\n",
    "import pandas as pd"
   ]
  },
  {
   "cell_type": "code",
   "execution_count": 4,
   "metadata": {},
   "outputs": [
    {
     "data": {
      "text/plain": [
       "(      u     i\n",
       " 0  5623  3210\n",
       " 1  1015  3264\n",
       " 2  4899   541\n",
       " 3  5138  3396\n",
       " 4  5587  1959,\n",
       "       u     i\n",
       " 0  2788   306\n",
       " 1  1647  1975\n",
       " 2  5020   673\n",
       " 3  2689  1210\n",
       " 4   655   260)"
      ]
     },
     "execution_count": 4,
     "metadata": {},
     "output_type": "execute_result"
    }
   ],
   "source": [
    "train_df = pd.read_csv(\"user_item_train.csv\", names=[\"u\", \"i\"], sep=\"\\t\")\n",
    "test_df = pd.read_csv(\"user_item_test.csv\", names=[\"u\", \"i\"], sep=\"\\t\")\n",
    "\n",
    "train_df.head(), test_df.head()"
   ]
  },
  {
   "cell_type": "code",
   "execution_count": 8,
   "metadata": {},
   "outputs": [
    {
     "data": {
      "text/plain": [
       "(      u     i  in\n",
       " 0  5623  3210   1\n",
       " 1  1015  3264   1\n",
       " 2  4899   541   1\n",
       " 3  5138  3396   1\n",
       " 4  5587  1959   1,\n",
       "       u     i  in\n",
       " 0  2788   306   1\n",
       " 1  1647  1975   1\n",
       " 2  5020   673   1\n",
       " 3  2689  1210   1\n",
       " 4   655   260   1)"
      ]
     },
     "execution_count": 8,
     "metadata": {},
     "output_type": "execute_result"
    }
   ],
   "source": [
    "train_df[\"in\"] = np.ones(len(train_df), dtype=int)\n",
    "test_df[\"in\"] = np.ones(len(test_df), dtype=int)\n",
    "train_df.head(), test_df.head()"
   ]
  },
  {
   "cell_type": "code",
   "execution_count": 10,
   "metadata": {},
   "outputs": [],
   "source": [
    "train_df.to_csv(\"train.txt\", sep=\" \", header=False, index=False)\n",
    "test_df.to_csv(\"test.txt\", sep=\" \", header=False, index=False)\n",
    "# user_item_valid.to_csv(\"user_item_valid.csv\", sep=\"\\t\", header=False, index=False)"
   ]
  }
 ],
 "metadata": {
  "kernelspec": {
   "display_name": "base",
   "language": "python",
   "name": "python3"
  },
  "language_info": {
   "codemirror_mode": {
    "name": "ipython",
    "version": 3
   },
   "file_extension": ".py",
   "mimetype": "text/x-python",
   "name": "python",
   "nbconvert_exporter": "python",
   "pygments_lexer": "ipython3",
   "version": "3.12.2"
  }
 },
 "nbformat": 4,
 "nbformat_minor": 2
}
